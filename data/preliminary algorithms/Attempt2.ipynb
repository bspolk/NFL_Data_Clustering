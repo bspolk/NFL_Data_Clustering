{
 "cells": [
  {
   "cell_type": "code",
   "execution_count": 28,
   "metadata": {
    "collapsed": true
   },
   "outputs": [],
   "source": [
    "import pandas as pd\n",
    "import sklearn as sk\n",
    "import numpy as np\n",
    "from sklearn.decomposition import PCA\n",
    "import matplotlib.pyplot as plt\n",
    "from sklearn.linear_model import LogisticRegression\n",
    "from sklearn.pipeline import Pipeline\n",
    "from sklearn.model_selection import GridSearchCV\n",
    "from sklearn.model_selection import train_test_split\n",
    "from sklearn.preprocessing import StandardScaler\n",
    "from sklearn.preprocessing import MinMaxScaler\n",
    "from sklearn.metrics import confusion_matrix\n",
    "%matplotlib inline"
   ]
  },
  {
   "cell_type": "markdown",
   "metadata": {},
   "source": [
    "# Reading the data and preprocessing"
   ]
  },
  {
   "cell_type": "code",
   "execution_count": 2,
   "metadata": {
    "collapsed": true
   },
   "outputs": [],
   "source": [
    "rawdf = pd.read_csv('NFL_Combined.csv')"
   ]
  },
  {
   "cell_type": "code",
   "execution_count": null,
   "metadata": {
    "collapsed": true
   },
   "outputs": [],
   "source": []
  },
  {
   "cell_type": "code",
   "execution_count": 3,
   "metadata": {
    "collapsed": true
   },
   "outputs": [],
   "source": [
    "binLst = []\n",
    "for i in rawdf['W']:\n",
    "    if i >= 8:\n",
    "        binLst.append(1)\n",
    "    else:\n",
    "        binLst.append(0)\n",
    "binDf = pd.DataFrame(binLst)"
   ]
  },
  {
   "cell_type": "code",
   "execution_count": 4,
   "metadata": {},
   "outputs": [
    {
     "data": {
      "text/html": [
       "<div>\n",
       "<style>\n",
       "    .dataframe thead tr:only-child th {\n",
       "        text-align: right;\n",
       "    }\n",
       "\n",
       "    .dataframe thead th {\n",
       "        text-align: left;\n",
       "    }\n",
       "\n",
       "    .dataframe tbody tr th {\n",
       "        vertical-align: top;\n",
       "    }\n",
       "</style>\n",
       "<table border=\"1\" class=\"dataframe\">\n",
       "  <thead>\n",
       "    <tr style=\"text-align: right;\">\n",
       "      <th></th>\n",
       "      <th>Year</th>\n",
       "      <th>Rk</th>\n",
       "      <th>Tm</th>\n",
       "      <th>ID</th>\n",
       "      <th>PF_Off</th>\n",
       "      <th>Yds_Off</th>\n",
       "      <th>Ply_Off</th>\n",
       "      <th>Y/P_Off</th>\n",
       "      <th>TO_Off</th>\n",
       "      <th>FL_Off</th>\n",
       "      <th>...</th>\n",
       "      <th>YdsRush_Def</th>\n",
       "      <th>TDrush_Def</th>\n",
       "      <th>Y/Arush_Def</th>\n",
       "      <th>1stDrush_Def</th>\n",
       "      <th>Pen_Def</th>\n",
       "      <th>YdsPenalties_Def</th>\n",
       "      <th>1stPy_Def</th>\n",
       "      <th>Sc%_Def</th>\n",
       "      <th>TO%_Def</th>\n",
       "      <th>Over 500</th>\n",
       "    </tr>\n",
       "  </thead>\n",
       "  <tbody>\n",
       "    <tr>\n",
       "      <th>0</th>\n",
       "      <td>2010</td>\n",
       "      <td>27</td>\n",
       "      <td>Arizona Cardinals</td>\n",
       "      <td>1</td>\n",
       "      <td>289</td>\n",
       "      <td>4309</td>\n",
       "      <td>931</td>\n",
       "      <td>4.6</td>\n",
       "      <td>35</td>\n",
       "      <td>16</td>\n",
       "      <td>...</td>\n",
       "      <td>2323</td>\n",
       "      <td>19</td>\n",
       "      <td>4.4</td>\n",
       "      <td>123</td>\n",
       "      <td>108</td>\n",
       "      <td>894</td>\n",
       "      <td>38</td>\n",
       "      <td>39.7</td>\n",
       "      <td>13.2</td>\n",
       "      <td>0</td>\n",
       "    </tr>\n",
       "    <tr>\n",
       "      <th>1</th>\n",
       "      <td>2011</td>\n",
       "      <td>24</td>\n",
       "      <td>Arizona Cardinals</td>\n",
       "      <td>2</td>\n",
       "      <td>312</td>\n",
       "      <td>5192</td>\n",
       "      <td>993</td>\n",
       "      <td>5.2</td>\n",
       "      <td>32</td>\n",
       "      <td>9</td>\n",
       "      <td>...</td>\n",
       "      <td>1986</td>\n",
       "      <td>15</td>\n",
       "      <td>4.2</td>\n",
       "      <td>118</td>\n",
       "      <td>122</td>\n",
       "      <td>950</td>\n",
       "      <td>41</td>\n",
       "      <td>32.8</td>\n",
       "      <td>9.3</td>\n",
       "      <td>1</td>\n",
       "    </tr>\n",
       "    <tr>\n",
       "      <th>2</th>\n",
       "      <td>2012</td>\n",
       "      <td>31</td>\n",
       "      <td>Arizona Cardinals</td>\n",
       "      <td>3</td>\n",
       "      <td>250</td>\n",
       "      <td>4209</td>\n",
       "      <td>1018</td>\n",
       "      <td>4.1</td>\n",
       "      <td>34</td>\n",
       "      <td>13</td>\n",
       "      <td>...</td>\n",
       "      <td>2192</td>\n",
       "      <td>12</td>\n",
       "      <td>4.3</td>\n",
       "      <td>107</td>\n",
       "      <td>100</td>\n",
       "      <td>810</td>\n",
       "      <td>21</td>\n",
       "      <td>27.0</td>\n",
       "      <td>14.2</td>\n",
       "      <td>0</td>\n",
       "    </tr>\n",
       "    <tr>\n",
       "      <th>3</th>\n",
       "      <td>2013</td>\n",
       "      <td>16</td>\n",
       "      <td>Arizona Cardinals</td>\n",
       "      <td>4</td>\n",
       "      <td>379</td>\n",
       "      <td>5542</td>\n",
       "      <td>1037</td>\n",
       "      <td>5.3</td>\n",
       "      <td>31</td>\n",
       "      <td>9</td>\n",
       "      <td>...</td>\n",
       "      <td>1351</td>\n",
       "      <td>5</td>\n",
       "      <td>3.7</td>\n",
       "      <td>68</td>\n",
       "      <td>111</td>\n",
       "      <td>960</td>\n",
       "      <td>33</td>\n",
       "      <td>28.9</td>\n",
       "      <td>13.7</td>\n",
       "      <td>1</td>\n",
       "    </tr>\n",
       "    <tr>\n",
       "      <th>4</th>\n",
       "      <td>2014</td>\n",
       "      <td>24</td>\n",
       "      <td>Arizona Cardinals</td>\n",
       "      <td>5</td>\n",
       "      <td>310</td>\n",
       "      <td>5116</td>\n",
       "      <td>993</td>\n",
       "      <td>5.2</td>\n",
       "      <td>17</td>\n",
       "      <td>5</td>\n",
       "      <td>...</td>\n",
       "      <td>1739</td>\n",
       "      <td>9</td>\n",
       "      <td>4.4</td>\n",
       "      <td>77</td>\n",
       "      <td>130</td>\n",
       "      <td>1192</td>\n",
       "      <td>28</td>\n",
       "      <td>29.8</td>\n",
       "      <td>12.8</td>\n",
       "      <td>1</td>\n",
       "    </tr>\n",
       "  </tbody>\n",
       "</table>\n",
       "<p>5 rows × 53 columns</p>\n",
       "</div>"
      ],
      "text/plain": [
       "   Year  Rk                 Tm  ID  PF_Off  Yds_Off  Ply_Off  Y/P_Off  TO_Off  \\\n",
       "0  2010  27  Arizona Cardinals   1     289     4309      931      4.6      35   \n",
       "1  2011  24  Arizona Cardinals   2     312     5192      993      5.2      32   \n",
       "2  2012  31  Arizona Cardinals   3     250     4209     1018      4.1      34   \n",
       "3  2013  16  Arizona Cardinals   4     379     5542     1037      5.3      31   \n",
       "4  2014  24  Arizona Cardinals   5     310     5116      993      5.2      17   \n",
       "\n",
       "   FL_Off    ...     YdsRush_Def  TDrush_Def  Y/Arush_Def  1stDrush_Def  \\\n",
       "0      16    ...            2323          19          4.4           123   \n",
       "1       9    ...            1986          15          4.2           118   \n",
       "2      13    ...            2192          12          4.3           107   \n",
       "3       9    ...            1351           5          3.7            68   \n",
       "4       5    ...            1739           9          4.4            77   \n",
       "\n",
       "   Pen_Def  YdsPenalties_Def  1stPy_Def  Sc%_Def  TO%_Def  Over 500  \n",
       "0      108               894         38     39.7     13.2         0  \n",
       "1      122               950         41     32.8      9.3         1  \n",
       "2      100               810         21     27.0     14.2         0  \n",
       "3      111               960         33     28.9     13.7         1  \n",
       "4      130              1192         28     29.8     12.8         1  \n",
       "\n",
       "[5 rows x 53 columns]"
      ]
     },
     "execution_count": 4,
     "metadata": {},
     "output_type": "execute_result"
    }
   ],
   "source": [
    "rawdf['Over 500'] = binDf\n",
    "rawdf.drop(\"W\",axis=1,inplace=True)\n",
    "rawdf.head(5) #good, the original W column was dropped and the binary output added"
   ]
  },
  {
   "cell_type": "code",
   "execution_count": 5,
   "metadata": {},
   "outputs": [
    {
     "name": "stdout",
     "output_type": "stream",
     "text": [
      "(320, 50)\n"
     ]
    },
    {
     "data": {
      "text/html": [
       "<div>\n",
       "<style>\n",
       "    .dataframe thead tr:only-child th {\n",
       "        text-align: right;\n",
       "    }\n",
       "\n",
       "    .dataframe thead th {\n",
       "        text-align: left;\n",
       "    }\n",
       "\n",
       "    .dataframe tbody tr th {\n",
       "        vertical-align: top;\n",
       "    }\n",
       "</style>\n",
       "<table border=\"1\" class=\"dataframe\">\n",
       "  <thead>\n",
       "    <tr style=\"text-align: right;\">\n",
       "      <th></th>\n",
       "      <th>Rk</th>\n",
       "      <th>PF_Off</th>\n",
       "      <th>Yds_Off</th>\n",
       "      <th>Ply_Off</th>\n",
       "      <th>Y/P_Off</th>\n",
       "      <th>TO_Off</th>\n",
       "      <th>FL_Off</th>\n",
       "      <th>1stDTot_Off</th>\n",
       "      <th>Cmp_Off</th>\n",
       "      <th>AttPass_Off</th>\n",
       "      <th>...</th>\n",
       "      <th>YdsRush_Def</th>\n",
       "      <th>TDrush_Def</th>\n",
       "      <th>Y/Arush_Def</th>\n",
       "      <th>1stDrush_Def</th>\n",
       "      <th>Pen_Def</th>\n",
       "      <th>YdsPenalties_Def</th>\n",
       "      <th>1stPy_Def</th>\n",
       "      <th>Sc%_Def</th>\n",
       "      <th>TO%_Def</th>\n",
       "      <th>Over 500</th>\n",
       "    </tr>\n",
       "  </thead>\n",
       "  <tbody>\n",
       "    <tr>\n",
       "      <th>0</th>\n",
       "      <td>27</td>\n",
       "      <td>289</td>\n",
       "      <td>4309</td>\n",
       "      <td>931</td>\n",
       "      <td>4.6</td>\n",
       "      <td>35</td>\n",
       "      <td>16</td>\n",
       "      <td>241</td>\n",
       "      <td>285</td>\n",
       "      <td>561</td>\n",
       "      <td>...</td>\n",
       "      <td>2323</td>\n",
       "      <td>19</td>\n",
       "      <td>4.4</td>\n",
       "      <td>123</td>\n",
       "      <td>108</td>\n",
       "      <td>894</td>\n",
       "      <td>38</td>\n",
       "      <td>39.7</td>\n",
       "      <td>13.2</td>\n",
       "      <td>0</td>\n",
       "    </tr>\n",
       "  </tbody>\n",
       "</table>\n",
       "<p>1 rows × 50 columns</p>\n",
       "</div>"
      ],
      "text/plain": [
       "   Rk  PF_Off  Yds_Off  Ply_Off  Y/P_Off  TO_Off  FL_Off  1stDTot_Off  \\\n",
       "0  27     289     4309      931      4.6      35      16          241   \n",
       "\n",
       "   Cmp_Off  AttPass_Off    ...     YdsRush_Def  TDrush_Def  Y/Arush_Def  \\\n",
       "0      285          561    ...            2323          19          4.4   \n",
       "\n",
       "   1stDrush_Def  Pen_Def  YdsPenalties_Def  1stPy_Def  Sc%_Def  TO%_Def  \\\n",
       "0           123      108               894         38     39.7     13.2   \n",
       "\n",
       "   Over 500  \n",
       "0         0  \n",
       "\n",
       "[1 rows x 50 columns]"
      ]
     },
     "execution_count": 5,
     "metadata": {},
     "output_type": "execute_result"
    }
   ],
   "source": [
    "rawdf.drop(['Year','Tm','ID'],axis=1,inplace=True)\n",
    "print(rawdf.shape)\n",
    "rawdf.head(1)"
   ]
  },
  {
   "cell_type": "code",
   "execution_count": 6,
   "metadata": {},
   "outputs": [
    {
     "data": {
      "text/plain": [
       "array([[ 0.83870968,  0.23244552,  0.12302577, ...,  0.75464684,\n",
       "         0.54385965,  0.        ],\n",
       "       [ 0.74193548,  0.28813559,  0.36769188, ...,  0.49814126,\n",
       "         0.31578947,  1.        ],\n",
       "       [ 0.96774194,  0.13801453,  0.09531726, ...,  0.28252788,\n",
       "         0.60233918,  0.        ],\n",
       "       ..., \n",
       "       [ 0.48387097,  0.36077482,  0.36963148, ...,  0.6133829 ,\n",
       "         0.4619883 ,  0.        ],\n",
       "       [ 0.90322581,  0.21307506,  0.25768911, ...,  0.58364312,\n",
       "         0.62573099,  0.        ],\n",
       "       [ 1.        ,  0.17675545,  0.14685508, ...,  0.83643123,\n",
       "         0.48538012,  0.        ]])"
      ]
     },
     "execution_count": 6,
     "metadata": {},
     "output_type": "execute_result"
    }
   ],
   "source": [
    "## scaling the data\n",
    "### X_train\n",
    "sc = StandardScaler()\n",
    "sc.fit(rawdf) \n",
    "XTransFormed = sc.transform(rawdf)\n",
    "mmScaler=MinMaxScaler()\n",
    "mmScaler.fit(XTransFormed)\n",
    "X_trainTransformed = mmScaler.transform(XTransFormed)\n",
    "X_trainTransformed"
   ]
  },
  {
   "cell_type": "code",
   "execution_count": 7,
   "metadata": {
    "collapsed": true
   },
   "outputs": [],
   "source": [
    "X_np = rawdf.drop('Over 500',axis=1)\n",
    "y_np = rawdf['Over 500']"
   ]
  },
  {
   "cell_type": "markdown",
   "metadata": {},
   "source": [
    "# Beginning PCA decomp"
   ]
  },
  {
   "cell_type": "code",
   "execution_count": 9,
   "metadata": {
    "collapsed": true
   },
   "outputs": [],
   "source": [
    "##Instantiating a PCA class, log model, and pipeline\n",
    "pca = PCA()\n",
    "logMod = LogisticRegression()\n",
    "pipe = Pipeline(steps=[('pca',pca),('logistic',logMod)])"
   ]
  },
  {
   "cell_type": "code",
   "execution_count": 15,
   "metadata": {},
   "outputs": [
    {
     "name": "stdout",
     "output_type": "stream",
     "text": [
      "Best parameter (CV score=0.859):\n",
      "{'logistic__C': 0.046415888336127774, 'pca__n_components': 9}\n"
     ]
    }
   ],
   "source": [
    "##Setting up the parameters (takes a while)\n",
    "param_grid = {\n",
    "    'pca__n_components':[1,2,3,4,5,6,7,8,9,10],\n",
    "    'logistic__C': np.logspace(-4,4,4)\n",
    "}\n",
    "search = GridSearchCV(pipe,param_grid,n_jobs=-1)\n",
    "search.fit(X_np,y_np)\n",
    "print(\"Best parameter (CV score=%0.3f):\" % search.best_score_)\n",
    "print(search.best_params_)"
   ]
  },
  {
   "cell_type": "code",
   "execution_count": 16,
   "metadata": {},
   "outputs": [
    {
     "data": {
      "image/png": "[encoded data removed]",
      "text/plain": [
       "<matplotlib.figure.Figure at 0x1e06a4b9cf8>"
      ]
     },
     "metadata": {},
     "output_type": "display_data"
    }
   ],
   "source": [
    "# Plot the PCA spectrum\n",
    "pca.fit(X_np)\n",
    "\n",
    "fig, (ax0, ax1) = plt.subplots(nrows=2, sharex=True, figsize=(6, 6))\n",
    "ax0.plot(np.arange(1, pca.n_components_ + 1),\n",
    "         pca.explained_variance_ratio_, '+', linewidth=2)\n",
    "ax0.set_ylabel('PCA explained variance ratio')\n",
    "\n",
    "ax0.axvline(search.best_estimator_.named_steps['pca'].n_components,\n",
    "            linestyle=':', label='n_components chosen')\n",
    "ax0.legend(prop=dict(size=12))\n",
    "\n",
    "# For each number of components, find the best classifier results\n",
    "results = pd.DataFrame(search.cv_results_)\n",
    "components_col = 'param_pca__n_components'\n",
    "best_clfs = results.groupby(components_col).apply(\n",
    "    lambda g: g.nlargest(1, 'mean_test_score'))\n",
    "\n",
    "best_clfs.plot(x=components_col, y='mean_test_score', yerr='std_test_score',\n",
    "               legend=False, ax=ax1)\n",
    "ax1.set_ylabel('Classification accuracy (val)')\n",
    "ax1.set_xlabel('n_components')\n",
    "\n",
    "plt.xlim(-1, 10)\n",
    "\n",
    "plt.tight_layout()\n",
    "plt.show()"
   ]
  },
  {
   "cell_type": "markdown",
   "metadata": {},
   "source": [
    "Scree plot hints implies that 4 components are necessary (as judged before the flat portion of the explained variance graph). 2 components will explain roughly 80% of the variance. So there's some conflicting indicators. However, I will choose three components. This is b/c the accuracy rate plateaus around 3 and then kicks back up again at 7. But I think 7 components, despite being a great deal simpler than the original 50 variable dataset, is still too complicated. Additionally, at three components, our accuracy is still ~80%."
   ]
  },
  {
   "cell_type": "code",
   "execution_count": 12,
   "metadata": {
    "collapsed": true
   },
   "outputs": [],
   "source": [
    "#here's how to import the PCA results to LOGREG via mlreference.com/pca-logistic-regression-sklearn"
   ]
  },
  {
   "cell_type": "code",
   "execution_count": 17,
   "metadata": {
    "collapsed": true
   },
   "outputs": [],
   "source": [
    "pca_final = PCA(n_components=3)\n",
    "pca_final.fit(X_np)\n",
    "pca_data = pd.DataFrame(pca_final.transform(X_np))"
   ]
  },
  {
   "cell_type": "code",
   "execution_count": 20,
   "metadata": {},
   "outputs": [],
   "source": [
    "#adding a centering column\n",
    "pca_data['Ones'] = 1.0"
   ]
  },
  {
   "cell_type": "code",
   "execution_count": 21,
   "metadata": {
    "collapsed": true
   },
   "outputs": [],
   "source": [
    "## split data then scaling\n",
    "X_train, X_test,y_train,y_test = train_test_split(pca_data,y_np,test_size=.2,random_state=33)"
   ]
  },
  {
   "cell_type": "code",
   "execution_count": 22,
   "metadata": {
    "collapsed": true
   },
   "outputs": [],
   "source": [
    "#Using the outcome of PCA to fit to log model"
   ]
  },
  {
   "cell_type": "code",
   "execution_count": 23,
   "metadata": {
    "collapsed": true
   },
   "outputs": [],
   "source": [
    "log_final = LogisticRegression().fit(X_train,y_train)"
   ]
  },
  {
   "cell_type": "code",
   "execution_count": 25,
   "metadata": {},
   "outputs": [],
   "source": [
    "y_predict_proba = log_final.predict_proba(X_test)"
   ]
  },
  {
   "cell_type": "code",
   "execution_count": null,
   "metadata": {
    "collapsed": true
   },
   "outputs": [],
   "source": [
    "#turning predictions into actual classifications rather than log odds\n",
    "cutoff = 0.5\n",
    "y_predict = [int(proba[1] > cutoff) for proba in y_predict_proba]"
   ]
  },
  {
   "cell_type": "code",
   "execution_count": 29,
   "metadata": {},
   "outputs": [
    {
     "name": "stdout",
     "output_type": "stream",
     "text": [
      "[[24  7]\n",
      " [ 6 27]]\n",
      "Accuracy:  0.80\n",
      "Precision: 0.79\n",
      "Recall:    0.82\n"
     ]
    }
   ],
   "source": [
    "M = confusion_matrix(y_test,y_predict)\n",
    "n_samples = len(y_test)\n",
    "print(M)\n",
    "print('Accuracy:  %.2f' % ((M[0][0] + M[1][1]) / n_samples))\n",
    "print('Precision: %.2f' % (M[1][1] / (M[0][1] + M[1][1])))\n",
    "print('Recall:    %.2f' % (M[1][1] / (M[1][0] + M[1][1])))"
   ]
  },
  {
   "cell_type": "code",
   "execution_count": null,
   "metadata": {
    "collapsed": true
   },
   "outputs": [],
   "source": []
  }
 ],
 "metadata": {
  "kernelspec": {
   "display_name": "Python 3",
   "language": "python",
   "name": "python3"
  },
  "language_info": {
   "codemirror_mode": {
    "name": "ipython",
    "version": 3
   },
   "file_extension": ".py",
   "mimetype": "text/x-python",
   "name": "python",
   "nbconvert_exporter": "python",
   "pygments_lexer": "ipython3",
   "version": "3.7.7"
  }
 },
 "nbformat": 4,
 "nbformat_minor": 2
}
